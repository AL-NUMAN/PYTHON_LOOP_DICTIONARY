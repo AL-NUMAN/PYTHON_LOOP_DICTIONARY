{
 "cells": [
  {
   "cell_type": "markdown",
   "metadata": {},
   "source": [
    "# LOOP\n"
   ]
  },
  {
   "cell_type": "markdown",
   "metadata": {},
   "source": [
    "# 1.Write a program that uses a while loop (not a for loop) to read through a string and print the characters of the string one-by-one on separate lines.\n",
    "\n"
   ]
  },
  {
   "cell_type": "code",
   "execution_count": null,
   "metadata": {
    "scrolled": true
   },
   "outputs": [],
   "source": [
    "i = 0\n",
    "a = 'PAYTHON LECTURES'\n",
    "while i < len(a):\n",
    "    print a[i]\n",
    "    i += 1"
   ]
  },
  {
   "cell_type": "markdown",
   "metadata": {},
   "source": [
    "# 2.Write the same program  to print the second characters of the every strings."
   ]
  },
  {
   "cell_type": "code",
   "execution_count": null,
   "metadata": {},
   "outputs": [],
   "source": [
    "i = 0\n",
    "a = ['PAYTHON', 'LECTURES','MATH','NUMAN']\n",
    "for  i in a:\n",
    "    \n",
    "    if len(i)>1:\n",
    "        print i[1]\n"
   ]
  },
  {
   "cell_type": "markdown",
   "metadata": {},
   "source": [
    "# 3.Write a program that asks the user to enter a password. If the user enters the right password, the program should tell them they are logged in to the system. Otherwise, the program should ask them to reenter the password. The user should only get five tries to enter the password, after which point the program should tell them that they are kicked off of the system."
   ]
  },
  {
   "cell_type": "code",
   "execution_count": null,
   "metadata": {},
   "outputs": [],
   "source": [
    "print('Enter correct  password  to login')\n",
    "count=0\n",
    "while count < 6:\n",
    "\n",
    "    password = raw_input('Enter password: ')\n",
    "    if password=='python201':\n",
    "        print('Access granted and login successful')\n",
    "        break\n",
    "    else:\n",
    "        print('\\nAccess denied. Try again.')\n",
    "        count += 1\n",
    "    if count==5:\n",
    "            print('\\nYou are kicked off after 5 unsuccessful tries ')\n",
    "            break"
   ]
  },
  {
   "cell_type": "markdown",
   "metadata": {},
   "source": [
    "# (4)Recall that, given a string s , s.index( ' x ' ) returns the index of the first x in s and an error if there is no x.(a) Write a program that asks the user for a string and a letter. Using a while loop, the program should print the index of the first occurrence of that letter and a message if the string does not contain the letter.(b) Write the above program using a for/break loop instead of a while loop."
   ]
  },
  {
   "cell_type": "markdown",
   "metadata": {},
   "source": [
    "BY WHILE LOOP"
   ]
  },
  {
   "cell_type": "code",
   "execution_count": null,
   "metadata": {},
   "outputs": [],
   "source": [
    "i=0\n",
    "s=raw_input('Enter any string :')\n",
    "\n",
    "letter=raw_input('Enter any letter :')\n",
    "length=len(s)\n",
    "while i<=length:\n",
    "   \n",
    "    if letter in s:\n",
    "        i=s.find(letter)\n",
    "        print \"The first occurrence of \",letter,\"is at:\", i\n",
    "        break\n",
    "    else:\n",
    "        print \"The letter is not present in the string\"\n",
    "        break\n",
    "    "
   ]
  },
  {
   "cell_type": "markdown",
   "metadata": {},
   "source": [
    "BY FOR LOOP"
   ]
  },
  {
   "cell_type": "code",
   "execution_count": null,
   "metadata": {},
   "outputs": [],
   "source": [
    "s=raw_input('Enter any string :')\n",
    "l=raw_input(\"enter any letter :\")\n",
    "print \"the index of \",l,\"is: \"\n",
    "for idx, letter in enumerate(s):\n",
    "    if letter == l:\n",
    "               print idx"
   ]
  },
  {
   "cell_type": "markdown",
   "metadata": {},
   "source": [
    "# 5. The GCD (greatest common divisor) of two numbers is the largest number that both are di- visible by. For instance, gcd (18, 42) is 6 because the largest number that both 18 and 42 are divisible by is 6. Write a program that asks the user for two numbers and computes their gcd. Shown below is a way to compute the GCD, called Euclid’s Algorithm"
   ]
  },
  {
   "cell_type": "markdown",
   "metadata": {},
   "source": [
    "# First compute the remainder of dividing the larger number by the smaller number\n",
    "\n",
    "# Next, replace the larger number with the smaller number and the smaller number with the remainder.\n",
    "\n",
    "# Repeat this process until the smaller number is 0. The GCD is the last value of the larger number."
   ]
  },
  {
   "cell_type": "code",
   "execution_count": null,
   "metadata": {},
   "outputs": [],
   "source": [
    "n1 = input(\"Enter the first number : \") \n",
    "n2 = input(\"Enter the second  number: \") \n",
    "\n",
    "r = n1 % n2 \n",
    "\n",
    "while(r != 0): \n",
    "    n1 = n2 \n",
    "    n2 = r \n",
    "    d = int(n1/n2) \n",
    "    r = n1 - (n2 * d) \n",
    "\n",
    "print \"The Greatest Common Divisor is  : \",n2"
   ]
  },
  {
   "cell_type": "markdown",
   "metadata": {},
   "source": [
    "# 8. Write a program in which you have a list that contains seven integers that can be 0 or 1. Find the first nonzero entry in the list and change it to a 1. If there are no nonzero entries, print a message saying so."
   ]
  },
  {
   "cell_type": "code",
   "execution_count": null,
   "metadata": {},
   "outputs": [],
   "source": [
    "list_of_int = [1,0,0,0,0,0,0] \n",
    "\n",
    "i = True\n",
    "for j in list_of_int:\n",
    "    if j == 1:\n",
    "        j = 0\n",
    "        i = False\n",
    "        print(list_of_int)\n",
    "        break\n",
    "        \n",
    "if i == True:\n",
    "    print(\"no nonzero element in the listsss\")"
   ]
  },
  {
   "cell_type": "markdown",
   "metadata": {},
   "source": [
    "# DICTIONARY"
   ]
  },
  {
   "cell_type": "markdown",
   "metadata": {},
   "source": [
    "# 1-->Write a program that repeatedly asks the user to enter product names and prices. Store all of these in a dictionary whose keys are the product names and whose values are the prices. When the user is done entering products and prices, allow them to repeatedly enter a product name and print the corresponding price or a message if the product is not in the dictionary."
   ]
  },
  {
   "cell_type": "code",
   "execution_count": null,
   "metadata": {},
   "outputs": [],
   "source": [
    "\n",
    "usercount = 100000\n",
    "dict= {}\n",
    "\n",
    "for i in range(usercount):\n",
    "         \n",
    "        names=raw_input('Enter product Name:--> ')\n",
    "        \n",
    "        price=input('Enter Price:--> ')\n",
    "        dict[names] = price \n",
    "        ch = raw_input(\" Type 'yes' To insert again , if no type 'no': \")\n",
    "        if ch == \"no\": \n",
    "            print(\"\\nAll products and prices are inserted  successfully\\n\")\n",
    "            break \n",
    "        \n",
    "\n",
    "for j in range(usercount):   \n",
    "        print '\\nSEARCH any PRODUCTs price by entering name, to exit type \"end\"  \\n'\n",
    "        names=raw_input()\n",
    "        \n",
    "        if names in dict:\n",
    "                print names,'price is',dict[names]\n",
    "        elif names!=\"end\"and names not in dict:\n",
    "            print \"Product-->\",names,\"not inserted in the list\"\n",
    "        if names == \"end\":\n",
    "                print \"\\n-----Exited from program------\"\n",
    "                break\n",
    "                \n",
    "        \n",
    "\n"
   ]
  },
  {
   "cell_type": "markdown",
   "metadata": {},
   "source": [
    "# 2-->>Using the dictionary created in the previous problem, allow the user to enter a dollar amount and print out all the products whose price is less than that amount."
   ]
  },
  {
   "cell_type": "code",
   "execution_count": 2,
   "metadata": {},
   "outputs": [
    {
     "name": "stdout",
     "output_type": "stream",
     "text": [
      "Enter product Name:--> oil\n",
      "Enter Price:--> 500\n",
      " Type 'yes' To insert again , if no type 'no': yes\n",
      "Enter product Name:--> pop\n",
      "Enter Price:--> 1200\n",
      " Type 'yes' To insert again , if no type 'no': no\n",
      "\n",
      "All products and prices are inserted  successfully\n",
      "\n",
      "{'oil': 500, 'pop': 1200}\n",
      "ENTER ANY AMOUNT OF DOLLER TO CHECK AVAIALABLE PRODUCTS\n",
      "1000\n",
      "Available products : \n",
      "oil\n"
     ]
    }
   ],
   "source": [
    "usercount = 100000\n",
    "products= {}\n",
    "\n",
    "for i in range(usercount):\n",
    "         \n",
    "        names=raw_input('Enter product Name:--> ')\n",
    "        \n",
    "        price=input('Enter Price:--> ')\n",
    "        products[names] = price \n",
    "        ch = raw_input(\" Type 'yes' To insert again , if no type 'no': \")\n",
    "        if ch == \"no\": \n",
    "            print(\"\\nAll products and prices are inserted  successfully\\n\")\n",
    "            break\n",
    "print products\n",
    "doller=input(\"ENTER ANY AMOUNT OF DOLLER TO CHECK AVAIALABLE PRODUCTS\\n\")\n",
    "for names in products :\n",
    "    if products[names]<doller:\n",
    "                print 'Available products : \\n',names\n",
    "                break\n",
    "        \n",
    "    else:\n",
    "         print \"Sorry NO PRODUCT IS AVAILBLE\"\n",
    "                \n",
    "                \n",
    "        "
   ]
  },
  {
   "cell_type": "markdown",
   "metadata": {},
   "source": [
    "# 3-- >>Write a program that uses a dictionary that contains ten user names and passwords. The program should ask the user to enter their username and password. If the username is not in the dictionary, the program should indicate that the person is not a valid user of the system. If the username is in the dictionary, but the user does not enter the right password, the program should say that the password is invalid. If the password is correct, then the program should tell the user that they are now logged in to the system."
   ]
  },
  {
   "cell_type": "code",
   "execution_count": null,
   "metadata": {},
   "outputs": [],
   "source": [
    "directory = {'numan' : 1000, 'samim' :1111, 'sayeed' :2000, 'xavier' :5555,'nobel' :3113, 'neymar' :7070, 'masum' :1011, 'sohel' :9901}\n",
    "while True:\n",
    "    username = raw_input(\"Enter your Username: \") \n",
    "    if username not in directory:\n",
    "        print \"Sorry, invalid username\"\n",
    "        break\n",
    "    password = input(\"Enter  Password: \") \n",
    "\n",
    "    \n",
    "    if username in directory and password == directory[username]:\n",
    "        print \"Login Successful\"\n",
    "        break\n",
    "    else:\n",
    "        print \"Invalid Password\""
   ]
  },
  {
   "cell_type": "markdown",
   "metadata": {},
   "source": []
  },
  {
   "cell_type": "code",
   "execution_count": null,
   "metadata": {},
   "outputs": [],
   "source": []
  }
 ],
 "metadata": {
  "kernelspec": {
   "display_name": "Python 2",
   "language": "python",
   "name": "python2"
  },
  "language_info": {
   "codemirror_mode": {
    "name": "ipython",
    "version": 2
   },
   "file_extension": ".py",
   "mimetype": "text/x-python",
   "name": "python",
   "nbconvert_exporter": "python",
   "pygments_lexer": "ipython2",
   "version": "2.7.15"
  }
 },
 "nbformat": 4,
 "nbformat_minor": 2
}
