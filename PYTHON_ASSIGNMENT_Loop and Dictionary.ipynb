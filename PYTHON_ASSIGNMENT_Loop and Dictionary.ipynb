{
 "cells": [
  {
   "cell_type": "markdown",
   "metadata": {},
   "source": [
    "# LOOP\n"
   ]
  },
  {
   "cell_type": "markdown",
   "metadata": {},
   "source": [
    "# 1.Write a program that uses a while loop (not a for loop) to read through a string and print the characters of the string one-by-one on separate lines.\n",
    "\n"
   ]
  },
  {
   "cell_type": "code",
   "execution_count": null,
   "metadata": {
    "scrolled": true
   },
   "outputs": [],
   "source": [
    "i = 0\n",
    "a = 'PAYTHON LECTURES'\n",
    "while i < len(a):\n",
    "    print a[i]\n",
    "    i += 1"
   ]
  },
  {
   "cell_type": "markdown",
   "metadata": {},
   "source": [
    "# 2.Write the same program  to print the second characters of the every strings."
   ]
  },
  {
   "cell_type": "code",
   "execution_count": null,
   "metadata": {},
   "outputs": [],
   "source": [
    "i = 0\n",
    "a = ['PAYTHON', 'LECTURES','MATH','NUMAN']\n",
    "for  i in a:\n",
    "    \n",
    "    if len(i)>1:\n",
    "        print i[1]\n"
   ]
  },
  {
   "cell_type": "markdown",
   "metadata": {},
   "source": [
    "# 3.Write a program that asks the user to enter a password. If the user enters the right password, the program should tell them they are logged in to the system. Otherwise, the program should ask them to reenter the password. The user should only get five tries to enter the password, after which point the program should tell them that they are kicked off of the system."
   ]
  },
  {
   "cell_type": "code",
   "execution_count": null,
   "metadata": {},
   "outputs": [],
   "source": [
    "print('Enter correct  password  to login')\n",
    "count=0\n",
    "while count < 6:\n",
    "\n",
    "    password = raw_input('Enter password: ')\n",
    "    if password=='python201':\n",
    "        print('Access granted and login successful')\n",
    "        break\n",
    "    else:\n",
    "        print('\\nAccess denied. Try again.')\n",
    "        count += 1\n",
    "    if count==5:\n",
    "            print('\\nYou are kicked off after 5 unsuccessful tries ')\n",
    "            break"
   ]
  },
  {
   "cell_type": "markdown",
   "metadata": {},
   "source": [
    "# (4)Recall that, given a string s , s.index( ' x ' ) returns the index of the first x in s and an error if there is no x.(a) Write a program that asks the user for a string and a letter. Using a while loop, the program should print the index of the first occurrence of that letter and a message if the string does not contain the letter.(b) Write the above program using a for/break loop instead of a while loop."
   ]
  },
  {
   "cell_type": "markdown",
   "metadata": {},
   "source": [
    "BY WHILE LOOP"
   ]
  },
  {
   "cell_type": "code",
   "execution_count": 3,
   "metadata": {},
   "outputs": [
    {
     "name": "stdout",
     "output_type": "stream",
     "text": [
      "Enter any string : i know python\n",
      "Enter any letter :p\n",
      "The first occurrence of  p is at: 8\n"
     ]
    }
   ],
   "source": [
    "i=0\n",
    "s=raw_input('Enter any string :')\n",
    "\n",
    "letter=raw_input('Enter any letter :')\n",
    "length=len(s)\n",
    "while i<=length:\n",
    "   \n",
    "    if letter in s:\n",
    "        i=s.find(letter)\n",
    "        print \"The first occurrence of \",letter,\"is at:\", i\n",
    "        break\n",
    "    else:\n",
    "        print \"The letter is not present in the string\"\n",
    "        break\n",
    "    "
   ]
  },
  {
   "cell_type": "markdown",
   "metadata": {},
   "source": [
    "BY FOR LOOP"
   ]
  },
  {
   "cell_type": "code",
   "execution_count": 4,
   "metadata": {},
   "outputs": [
    {
     "name": "stdout",
     "output_type": "stream",
     "text": [
      "Enter any string :hello world\n",
      "enter any letter :o\n",
      "the index of  o is: \n",
      "4\n",
      "7\n"
     ]
    }
   ],
   "source": [
    "s=raw_input('Enter any string :')\n",
    "l=raw_input(\"enter any letter :\")\n",
    "print \"the index of \",l,\"is: \"\n",
    "for idx, letter in enumerate(s):\n",
    "    if letter == l:\n",
    "               print idx"
   ]
  },
  {
   "cell_type": "markdown",
   "metadata": {},
   "source": [
    "# DICTIONARY"
   ]
  },
  {
   "cell_type": "markdown",
   "metadata": {},
   "source": [
    "# 1-->Write a program that repeatedly asks the user to enter product names and prices. Store all of these in a dictionary whose keys are the product names and whose values are the prices. When the user is done entering products and prices, allow them to repeatedly enter a product name and print the corresponding price or a message if the product is not in the dictionary."
   ]
  },
  {
   "cell_type": "code",
   "execution_count": null,
   "metadata": {},
   "outputs": [],
   "source": [
    "\n",
    "usercount = 100000\n",
    "dict= {}\n",
    "\n",
    "for i in range(usercount):\n",
    "         \n",
    "        names=raw_input('Enter product Name:--> ')\n",
    "        \n",
    "        price=input('Enter Price:--> ')\n",
    "        dict[names] = price \n",
    "        ch = raw_input(\" Type 'yes' To insert again , if no type 'no': \")\n",
    "        if ch == \"no\": \n",
    "            print(\"\\nAll products and prices are inserted  successfully\\n\")\n",
    "            break \n",
    "        \n",
    "\n",
    "for j in range(usercount):   \n",
    "        print '\\nSEARCH any PRODUCTs price by entering name, to exit type \"end\"  \\n'\n",
    "        names=raw_input()\n",
    "        \n",
    "        if names in dict:\n",
    "                print names,'price is',dict[names]\n",
    "        elif names!=\"end\"and names not in dict:\n",
    "            print \"Product-->\",names,\"not inserted in the list\"\n",
    "        if names == \"end\":\n",
    "                print \"\\n-----Exited from program------\"\n",
    "                break\n",
    "                \n",
    "        \n",
    "\n"
   ]
  },
  {
   "cell_type": "code",
   "execution_count": null,
   "metadata": {},
   "outputs": [],
   "source": []
  }
 ],
 "metadata": {
  "kernelspec": {
   "display_name": "Python 2",
   "language": "python",
   "name": "python2"
  },
  "language_info": {
   "codemirror_mode": {
    "name": "ipython",
    "version": 2
   },
   "file_extension": ".py",
   "mimetype": "text/x-python",
   "name": "python",
   "nbconvert_exporter": "python",
   "pygments_lexer": "ipython2",
   "version": "2.7.15"
  }
 },
 "nbformat": 4,
 "nbformat_minor": 2
}
